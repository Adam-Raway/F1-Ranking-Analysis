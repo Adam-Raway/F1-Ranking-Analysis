{
 "cells": [
  {
   "cell_type": "markdown",
   "id": "48707294-fc6e-4616-80e8-eb1529c3908f",
   "metadata": {},
   "source": [
    "<img src=https://upload.wikimedia.org/wikipedia/commons/c/c8/Formula-1-70th-aniversary-logo.jpg alt=\"f1-logo\" width=\"100\" height=\"100\"/>\n",
    "\n",
    "# Unpacking the Podium: A Comparative Analysis of F1 Driver Ranking Methods\n",
    "\n",
    "<hr style=\"margin-bottom: 40px;\">\n"
   ]
  },
  {
   "cell_type": "markdown",
   "id": "f04e02ae-1fc1-4464-8f71-a00a7210e763",
   "metadata": {},
   "source": [
    "TODO: Add intro paragraph here"
   ]
  },
  {
   "cell_type": "code",
   "execution_count": 1,
   "id": "0eee5d04-fdb6-4d89-a9f6-a6a5ee697ac8",
   "metadata": {},
   "outputs": [],
   "source": [
    "import numpy as np\n",
    "import pandas as pd\n",
    "import matplotlib.pyplot as plt\n",
    "import matplotlib"
   ]
  },
  {
   "cell_type": "markdown",
   "id": "291dc916-9c57-4c30-90a1-63788b23c4f6",
   "metadata": {
    "jp-MarkdownHeadingCollapsed": true
   },
   "source": [
    "# Cleaning & Transforming the F1 Results Data"
   ]
  },
  {
   "cell_type": "markdown",
   "id": "b43eafd8-c123-415e-ad11-93ab56f2f060",
   "metadata": {},
   "source": [
    "TODO: Introduce the database and how it functions briefly. Include the diagram of the database and hyperlinks to the cleaning section of each database in the form of a list."
   ]
  },
  {
   "cell_type": "markdown",
   "id": "89d73745-0048-4778-b7d7-f90b6f238390",
   "metadata": {},
   "source": [
    "## Circuits.csv"
   ]
  },
  {
   "cell_type": "code",
   "execution_count": null,
   "id": "1a6fc5dc-5a83-4d8c-8bc3-c707d4a659ec",
   "metadata": {},
   "outputs": [],
   "source": []
  },
  {
   "cell_type": "markdown",
   "id": "6fefad14-2d29-4d6d-8885-1aab153ed25c",
   "metadata": {},
   "source": [
    "## Races.csv"
   ]
  },
  {
   "cell_type": "code",
   "execution_count": null,
   "id": "ef311195-d43d-4c3b-b03d-6957bf82f387",
   "metadata": {},
   "outputs": [],
   "source": []
  },
  {
   "cell_type": "markdown",
   "id": "6b9452b6-0604-456e-8711-d9026966259e",
   "metadata": {},
   "source": [
    "## Drivers.csv"
   ]
  },
  {
   "cell_type": "code",
   "execution_count": null,
   "id": "7b05d418-6eff-4ee5-a6de-7d5d9b732e9d",
   "metadata": {},
   "outputs": [],
   "source": []
  },
  {
   "cell_type": "markdown",
   "id": "0d5cd6c5-387e-4c02-8594-bf50b023d356",
   "metadata": {},
   "source": [
    "## Driver_Standings.csv"
   ]
  },
  {
   "cell_type": "code",
   "execution_count": null,
   "id": "d380be87-de0d-49a0-8791-75ff31f1c8e6",
   "metadata": {},
   "outputs": [],
   "source": []
  },
  {
   "cell_type": "markdown",
   "id": "056e2513-b7cc-4d95-b40a-b1cd16407b7c",
   "metadata": {},
   "source": [
    "## Constructors.csv"
   ]
  },
  {
   "cell_type": "code",
   "execution_count": null,
   "id": "13ab8629-8832-423a-af16-035589b14d65",
   "metadata": {},
   "outputs": [],
   "source": []
  },
  {
   "cell_type": "markdown",
   "id": "1079e2d4-9e66-476f-9e94-a9604d848b6f",
   "metadata": {},
   "source": [
    "## Constructor_Standings.csv"
   ]
  },
  {
   "cell_type": "code",
   "execution_count": null,
   "id": "a1d770da-dbaa-44d1-ace4-f731178841e3",
   "metadata": {},
   "outputs": [],
   "source": []
  },
  {
   "cell_type": "markdown",
   "id": "f9233dfc-20b0-43d4-bd31-3ae37af479a7",
   "metadata": {},
   "source": [
    "## Status.csv"
   ]
  },
  {
   "cell_type": "code",
   "execution_count": null,
   "id": "d6b14947-5b8d-42f1-80fd-e1bcedaabdde",
   "metadata": {},
   "outputs": [],
   "source": []
  },
  {
   "cell_type": "markdown",
   "id": "9fae2dba-69ac-48a7-981e-50aa7ec0e2f4",
   "metadata": {},
   "source": [
    "## Results.csv"
   ]
  },
  {
   "cell_type": "code",
   "execution_count": null,
   "id": "0b5f9d67-9f40-4ec2-a6b9-62079daf5922",
   "metadata": {},
   "outputs": [],
   "source": []
  },
  {
   "cell_type": "markdown",
   "id": "f4da9172-7a12-4574-96e0-dcae8014934f",
   "metadata": {
    "jp-MarkdownHeadingCollapsed": true
   },
   "source": [
    "# Analysing the Driver Ranking Methods"
   ]
  },
  {
   "cell_type": "markdown",
   "id": "d1eae616-7180-4c11-903f-154ecbb032c1",
   "metadata": {},
   "source": [
    "TODO: Intro paragraph listing the different driver ranking methods and the different potential considerations to take when making a ranking method."
   ]
  },
  {
   "cell_type": "markdown",
   "id": "6b62b304-8844-4f9e-a09e-30efb7e72742",
   "metadata": {
    "jp-MarkdownHeadingCollapsed": true
   },
   "source": [
    "## Total Points Accumulated"
   ]
  },
  {
   "cell_type": "markdown",
   "id": "44acdaba-3c07-460a-86db-bb11c7af75e8",
   "metadata": {},
   "source": [
    "TODO: An explanation of how this ranking system works"
   ]
  },
  {
   "cell_type": "markdown",
   "id": "3bf933b8-c829-4826-814c-1b36ab39bca5",
   "metadata": {},
   "source": [
    "### Implementing the Ranking System"
   ]
  },
  {
   "cell_type": "code",
   "execution_count": null,
   "id": "2287074b-6ea7-403b-a720-0ae7c45d7422",
   "metadata": {},
   "outputs": [],
   "source": []
  },
  {
   "cell_type": "markdown",
   "id": "5ffca2a6-8373-41e4-b43b-65385e510309",
   "metadata": {},
   "source": [
    "### Ranking the Drivers"
   ]
  },
  {
   "cell_type": "code",
   "execution_count": null,
   "id": "f9257201-c90b-4a7b-aa20-4b5ce29b7947",
   "metadata": {},
   "outputs": [],
   "source": []
  },
  {
   "cell_type": "markdown",
   "id": "4974664d-d051-43ec-9c68-38e7b1946515",
   "metadata": {},
   "source": [
    "### Discussing the Results"
   ]
  },
  {
   "cell_type": "code",
   "execution_count": null,
   "id": "cbbbcf47-9340-411e-8e5b-ee26336fe53f",
   "metadata": {},
   "outputs": [],
   "source": []
  },
  {
   "cell_type": "markdown",
   "id": "5b5f98be-48cf-4846-a78b-66f447e62eda",
   "metadata": {
    "jp-MarkdownHeadingCollapsed": true
   },
   "source": [
    "## Points Accumulated per Season"
   ]
  },
  {
   "cell_type": "markdown",
   "id": "2f6d9c2e-755c-423f-8872-8956e9607a6c",
   "metadata": {},
   "source": [
    "TODO: An explanation of how this ranking system works"
   ]
  },
  {
   "cell_type": "markdown",
   "id": "d9027201-e329-4ede-8285-6089f0672804",
   "metadata": {},
   "source": [
    "### Implementing the Ranking System"
   ]
  },
  {
   "cell_type": "code",
   "execution_count": null,
   "id": "2c9b891c-4dc0-46e9-8077-7a0ec14c2dfb",
   "metadata": {},
   "outputs": [],
   "source": []
  },
  {
   "cell_type": "markdown",
   "id": "12bd0cc9-5139-4364-bb8e-847c6b158ba8",
   "metadata": {},
   "source": [
    "### Ranking the Drivers"
   ]
  },
  {
   "cell_type": "code",
   "execution_count": null,
   "id": "fd29e4c5-e5cb-423e-9b2a-f16f8e7c10fd",
   "metadata": {},
   "outputs": [],
   "source": []
  },
  {
   "cell_type": "markdown",
   "id": "0a855eb2-afa6-4946-b89e-4c04b8bae277",
   "metadata": {},
   "source": [
    "### Discussing the Results"
   ]
  },
  {
   "cell_type": "code",
   "execution_count": null,
   "id": "55eca86a-12bf-421b-a460-4d4f4cdf9c73",
   "metadata": {},
   "outputs": [],
   "source": []
  },
  {
   "cell_type": "markdown",
   "id": "15d4377c-ddb7-4c96-9893-d2e80878ca9e",
   "metadata": {
    "jp-MarkdownHeadingCollapsed": true
   },
   "source": [
    "## Pythagorean Expectation"
   ]
  },
  {
   "cell_type": "markdown",
   "id": "a164248c-0a62-403e-8e76-059f7d09f701",
   "metadata": {},
   "source": [
    "TODO: An explanation of how this ranking system works"
   ]
  },
  {
   "cell_type": "markdown",
   "id": "4346aac0-81ab-4e88-a617-bad55324c097",
   "metadata": {},
   "source": [
    "### Implementing the Ranking System"
   ]
  },
  {
   "cell_type": "code",
   "execution_count": null,
   "id": "9e531e06-c195-456a-a6f2-b2ed0eb39492",
   "metadata": {},
   "outputs": [],
   "source": []
  },
  {
   "cell_type": "markdown",
   "id": "5cbb8660-5c94-4b72-9d6d-f495abc9e449",
   "metadata": {},
   "source": [
    "### Ranking the Drivers"
   ]
  },
  {
   "cell_type": "code",
   "execution_count": null,
   "id": "f5e2820d-1cf7-4105-899a-98b9c7d0b71f",
   "metadata": {},
   "outputs": [],
   "source": []
  },
  {
   "cell_type": "markdown",
   "id": "aba8d443-3b1d-4d44-8920-145bd1984e2c",
   "metadata": {},
   "source": [
    "### Discussing the Results"
   ]
  },
  {
   "cell_type": "code",
   "execution_count": null,
   "id": "a2b73a2e-a0f3-49c7-8db9-c665491d6a1f",
   "metadata": {},
   "outputs": [],
   "source": []
  },
  {
   "cell_type": "markdown",
   "id": "b5040325-3aa1-40eb-9a88-76722637664a",
   "metadata": {
    "jp-MarkdownHeadingCollapsed": true
   },
   "source": [
    "## Skill Points (ELO)"
   ]
  },
  {
   "cell_type": "markdown",
   "id": "0d9f4d6e-cf11-46ce-9f92-fb2848aee7bb",
   "metadata": {
    "jupyter": {
     "source_hidden": true
    }
   },
   "source": [
    "TODO: An explanation of how this ranking system works"
   ]
  },
  {
   "cell_type": "markdown",
   "id": "ef2fdc0d-bc73-43be-a85f-e94e2044b2c1",
   "metadata": {},
   "source": [
    "### Implementing the Ranking System"
   ]
  },
  {
   "cell_type": "code",
   "execution_count": null,
   "id": "12805c6f-bd84-4502-a6d1-161c9222fce1",
   "metadata": {},
   "outputs": [],
   "source": []
  },
  {
   "cell_type": "markdown",
   "id": "acba455f-520a-48ad-9ae0-374bd3db2b5c",
   "metadata": {},
   "source": [
    "### Ranking the Drivers"
   ]
  },
  {
   "cell_type": "code",
   "execution_count": null,
   "id": "e1953074-dc3c-45d2-8f97-d23bc1733a06",
   "metadata": {},
   "outputs": [],
   "source": []
  },
  {
   "cell_type": "markdown",
   "id": "01b10cbc-4864-4887-9d41-6507d2151327",
   "metadata": {},
   "source": [
    "### Discussing the Results"
   ]
  },
  {
   "cell_type": "code",
   "execution_count": null,
   "id": "e4355fff-79b0-417b-8848-bcd4736ce911",
   "metadata": {},
   "outputs": [],
   "source": []
  },
  {
   "cell_type": "markdown",
   "id": "6255af19-4b6c-4d7f-9e2d-64561139682a",
   "metadata": {
    "jp-MarkdownHeadingCollapsed": true
   },
   "source": [
    "# Conclusion and Future Steps"
   ]
  },
  {
   "cell_type": "markdown",
   "id": "fc663d61-d638-43de-b15f-2b5b0be5c20b",
   "metadata": {},
   "source": [
    "TODO: Paragraph(s) about the findings of the article, the pros and cons of different ranking methods and philosophies, and why none of them can solely determine who the best driver is."
   ]
  },
  {
   "cell_type": "markdown",
   "id": "5379488d-ffdf-4db8-b595-0638756dc376",
   "metadata": {},
   "source": [
    "TODO: Paragraph(s) about future steps such as testing more comprehensive ranking methods (such as the one from [F1Metrics](https://f1metrics.wordpress.com/2019/09/10/a-new-f1metrics-model/) that allow us to account for different variables (driver vs. team vs. season etc.) and ignore certain ones without simply and blindly filtering the data. "
   ]
  },
  {
   "cell_type": "markdown",
   "id": "9c213fd9-3c69-4d88-8943-0942fe605312",
   "metadata": {},
   "source": [
    "TODO: Contact information."
   ]
  },
  {
   "cell_type": "code",
   "execution_count": null,
   "id": "a83fa2d0-86a4-493e-82ce-cccfeb6e075b",
   "metadata": {},
   "outputs": [],
   "source": []
  }
 ],
 "metadata": {
  "kernelspec": {
   "display_name": "Python 3 (ipykernel)",
   "language": "python",
   "name": "python3"
  },
  "language_info": {
   "codemirror_mode": {
    "name": "ipython",
    "version": 3
   },
   "file_extension": ".py",
   "mimetype": "text/x-python",
   "name": "python",
   "nbconvert_exporter": "python",
   "pygments_lexer": "ipython3",
   "version": "3.11.9"
  }
 },
 "nbformat": 4,
 "nbformat_minor": 5
}
